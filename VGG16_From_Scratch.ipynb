{
  "nbformat": 4,
  "nbformat_minor": 0,
  "metadata": {
    "colab": {
      "name": "Untitled2.ipynb",
      "provenance": [],
      "collapsed_sections": [],
      "authorship_tag": "ABX9TyPgJDpv1RD42PNdVsC+sM8/",
      "include_colab_link": true
    },
    "kernelspec": {
      "name": "python3",
      "display_name": "Python 3"
    },
    "language_info": {
      "name": "python"
    },
    "accelerator": "GPU",
    "widgets": {
      "application/vnd.jupyter.widget-state+json": {
        "0c30058dda434fa59f74ff2b0dc0ad1c": {
          "model_module": "@jupyter-widgets/controls",
          "model_name": "HBoxModel",
          "state": {
            "_view_name": "HBoxView",
            "_dom_classes": [],
            "_model_name": "HBoxModel",
            "_view_module": "@jupyter-widgets/controls",
            "_model_module_version": "1.5.0",
            "_view_count": null,
            "_view_module_version": "1.5.0",
            "box_style": "",
            "layout": "IPY_MODEL_2dd98b25ee7e4015a635696ae990276a",
            "_model_module": "@jupyter-widgets/controls",
            "children": [
              "IPY_MODEL_5705d902a608451092c8e0cb447a6366",
              "IPY_MODEL_d137bd206feb4ffaa86a21847092e1f3"
            ]
          }
        },
        "2dd98b25ee7e4015a635696ae990276a": {
          "model_module": "@jupyter-widgets/base",
          "model_name": "LayoutModel",
          "state": {
            "_view_name": "LayoutView",
            "grid_template_rows": null,
            "right": null,
            "justify_content": null,
            "_view_module": "@jupyter-widgets/base",
            "overflow": null,
            "_model_module_version": "1.2.0",
            "_view_count": null,
            "flex_flow": null,
            "width": null,
            "min_width": null,
            "border": null,
            "align_items": null,
            "bottom": null,
            "_model_module": "@jupyter-widgets/base",
            "top": null,
            "grid_column": null,
            "overflow_y": null,
            "overflow_x": null,
            "grid_auto_flow": null,
            "grid_area": null,
            "grid_template_columns": null,
            "flex": null,
            "_model_name": "LayoutModel",
            "justify_items": null,
            "grid_row": null,
            "max_height": null,
            "align_content": null,
            "visibility": null,
            "align_self": null,
            "height": null,
            "min_height": null,
            "padding": null,
            "grid_auto_rows": null,
            "grid_gap": null,
            "max_width": null,
            "order": null,
            "_view_module_version": "1.2.0",
            "grid_template_areas": null,
            "object_position": null,
            "object_fit": null,
            "grid_auto_columns": null,
            "margin": null,
            "display": null,
            "left": null
          }
        },
        "5705d902a608451092c8e0cb447a6366": {
          "model_module": "@jupyter-widgets/controls",
          "model_name": "FloatProgressModel",
          "state": {
            "_view_name": "ProgressView",
            "style": "IPY_MODEL_41319edef33f4a0da9fa669919ebbc07",
            "_dom_classes": [],
            "description": "",
            "_model_name": "FloatProgressModel",
            "bar_style": "success",
            "max": 170498071,
            "_view_module": "@jupyter-widgets/controls",
            "_model_module_version": "1.5.0",
            "value": 170498071,
            "_view_count": null,
            "_view_module_version": "1.5.0",
            "orientation": "horizontal",
            "min": 0,
            "description_tooltip": null,
            "_model_module": "@jupyter-widgets/controls",
            "layout": "IPY_MODEL_d62f18010d2940fe90193e485c7533c8"
          }
        },
        "d137bd206feb4ffaa86a21847092e1f3": {
          "model_module": "@jupyter-widgets/controls",
          "model_name": "HTMLModel",
          "state": {
            "_view_name": "HTMLView",
            "style": "IPY_MODEL_4214729cd7ca4b05aba550f3068db139",
            "_dom_classes": [],
            "description": "",
            "_model_name": "HTMLModel",
            "placeholder": "​",
            "_view_module": "@jupyter-widgets/controls",
            "_model_module_version": "1.5.0",
            "value": " 170499072/? [00:03&lt;00:00, 47416170.07it/s]",
            "_view_count": null,
            "_view_module_version": "1.5.0",
            "description_tooltip": null,
            "_model_module": "@jupyter-widgets/controls",
            "layout": "IPY_MODEL_ffbc073981fa43908b0d523e207c8815"
          }
        },
        "41319edef33f4a0da9fa669919ebbc07": {
          "model_module": "@jupyter-widgets/controls",
          "model_name": "ProgressStyleModel",
          "state": {
            "_view_name": "StyleView",
            "_model_name": "ProgressStyleModel",
            "description_width": "initial",
            "_view_module": "@jupyter-widgets/base",
            "_model_module_version": "1.5.0",
            "_view_count": null,
            "_view_module_version": "1.2.0",
            "bar_color": null,
            "_model_module": "@jupyter-widgets/controls"
          }
        },
        "d62f18010d2940fe90193e485c7533c8": {
          "model_module": "@jupyter-widgets/base",
          "model_name": "LayoutModel",
          "state": {
            "_view_name": "LayoutView",
            "grid_template_rows": null,
            "right": null,
            "justify_content": null,
            "_view_module": "@jupyter-widgets/base",
            "overflow": null,
            "_model_module_version": "1.2.0",
            "_view_count": null,
            "flex_flow": null,
            "width": null,
            "min_width": null,
            "border": null,
            "align_items": null,
            "bottom": null,
            "_model_module": "@jupyter-widgets/base",
            "top": null,
            "grid_column": null,
            "overflow_y": null,
            "overflow_x": null,
            "grid_auto_flow": null,
            "grid_area": null,
            "grid_template_columns": null,
            "flex": null,
            "_model_name": "LayoutModel",
            "justify_items": null,
            "grid_row": null,
            "max_height": null,
            "align_content": null,
            "visibility": null,
            "align_self": null,
            "height": null,
            "min_height": null,
            "padding": null,
            "grid_auto_rows": null,
            "grid_gap": null,
            "max_width": null,
            "order": null,
            "_view_module_version": "1.2.0",
            "grid_template_areas": null,
            "object_position": null,
            "object_fit": null,
            "grid_auto_columns": null,
            "margin": null,
            "display": null,
            "left": null
          }
        },
        "4214729cd7ca4b05aba550f3068db139": {
          "model_module": "@jupyter-widgets/controls",
          "model_name": "DescriptionStyleModel",
          "state": {
            "_view_name": "StyleView",
            "_model_name": "DescriptionStyleModel",
            "description_width": "",
            "_view_module": "@jupyter-widgets/base",
            "_model_module_version": "1.5.0",
            "_view_count": null,
            "_view_module_version": "1.2.0",
            "_model_module": "@jupyter-widgets/controls"
          }
        },
        "ffbc073981fa43908b0d523e207c8815": {
          "model_module": "@jupyter-widgets/base",
          "model_name": "LayoutModel",
          "state": {
            "_view_name": "LayoutView",
            "grid_template_rows": null,
            "right": null,
            "justify_content": null,
            "_view_module": "@jupyter-widgets/base",
            "overflow": null,
            "_model_module_version": "1.2.0",
            "_view_count": null,
            "flex_flow": null,
            "width": null,
            "min_width": null,
            "border": null,
            "align_items": null,
            "bottom": null,
            "_model_module": "@jupyter-widgets/base",
            "top": null,
            "grid_column": null,
            "overflow_y": null,
            "overflow_x": null,
            "grid_auto_flow": null,
            "grid_area": null,
            "grid_template_columns": null,
            "flex": null,
            "_model_name": "LayoutModel",
            "justify_items": null,
            "grid_row": null,
            "max_height": null,
            "align_content": null,
            "visibility": null,
            "align_self": null,
            "height": null,
            "min_height": null,
            "padding": null,
            "grid_auto_rows": null,
            "grid_gap": null,
            "max_width": null,
            "order": null,
            "_view_module_version": "1.2.0",
            "grid_template_areas": null,
            "object_position": null,
            "object_fit": null,
            "grid_auto_columns": null,
            "margin": null,
            "display": null,
            "left": null
          }
        }
      }
    }
  },
  "cells": [
    {
      "cell_type": "markdown",
      "metadata": {
        "id": "view-in-github",
        "colab_type": "text"
      },
      "source": [
        "<a href=\"https://colab.research.google.com/github/sohail-datascientist/sohail-datascientist/blob/main/VGG16_From_Scratch.ipynb\" target=\"_parent\"><img src=\"https://colab.research.google.com/assets/colab-badge.svg\" alt=\"Open In Colab\"/></a>"
      ]
    },
    {
      "cell_type": "markdown",
      "metadata": {
        "id": "ySzpvy2AiYTY"
      },
      "source": [
        "Essential Librarries Added for the functionalities."
      ]
    },
    {
      "cell_type": "code",
      "metadata": {
        "id": "ayMw9B84h8QD"
      },
      "source": [
        "from torchvision import datasets as ds\n",
        "from torch.utils.data import DataLoader\n",
        "from torchvision import transforms\n",
        "import torchvision as tv\n",
        "import torch\n",
        "import cv2 as cv\n",
        "import torch.nn as nn\n",
        "import math\n",
        "import numpy as np\n",
        "from torch.autograd import Variable\n",
        "from torch import optim\n",
        "from matplotlib import pyplot as plt\n",
        "import torch.backends.cudnn as cudnn"
      ],
      "execution_count": 1,
      "outputs": []
    },
    {
      "cell_type": "code",
      "metadata": {
        "id": "hcdkcfDJhzAy"
      },
      "source": [
        ""
      ],
      "execution_count": null,
      "outputs": []
    },
    {
      "cell_type": "markdown",
      "metadata": {
        "id": "1Kt7lp3aipw2"
      },
      "source": [
        "**Transformed Data to tensor and normalized it with different params**"
      ]
    },
    {
      "cell_type": "code",
      "metadata": {
        "id": "Wf3_0I1qiAf8"
      },
      "source": [
        "transform = transforms.Compose(\n",
        "    [\n",
        "        transforms.ToTensor(),\n",
        "        transforms.Normalize((1.5, 2.5, 0.5), (1, 0.25, 0.15))\n",
        "    ]\n",
        ")"
      ],
      "execution_count": 3,
      "outputs": []
    },
    {
      "cell_type": "code",
      "metadata": {
        "id": "ZSLsCH5si2wE"
      },
      "source": [
        ""
      ],
      "execution_count": null,
      "outputs": []
    },
    {
      "cell_type": "markdown",
      "metadata": {
        "id": "Blg7maiki06Z"
      },
      "source": [
        "**CIFAR10 Dataset trainig loader and test along with train set and test set chosen from cifar10 dataset**"
      ]
    },
    {
      "cell_type": "code",
      "metadata": {
        "colab": {
          "base_uri": "https://localhost:8080/",
          "height": 117,
          "referenced_widgets": [
            "0c30058dda434fa59f74ff2b0dc0ad1c",
            "2dd98b25ee7e4015a635696ae990276a",
            "5705d902a608451092c8e0cb447a6366",
            "d137bd206feb4ffaa86a21847092e1f3",
            "41319edef33f4a0da9fa669919ebbc07",
            "d62f18010d2940fe90193e485c7533c8",
            "4214729cd7ca4b05aba550f3068db139",
            "ffbc073981fa43908b0d523e207c8815"
          ]
        },
        "id": "cwry6lsaiAiu",
        "outputId": "6206c3a0-e461-4256-f35b-6800bcd151c8"
      },
      "source": [
        "train_set = ds.CIFAR10(root='../input/', train=True, transform=transform, download=True)\n",
        "train_loader = torch.utils.data.DataLoader(train_set, batch_size=4, shuffle=True, num_workers=0)\n",
        "testset = tv.datasets.CIFAR10(root='../input/', train=False, download=True, transform=transform)\n",
        "testloader = torch.utils.data.DataLoader(testset,  batch_size=4, shuffle=True, num_workers=0)"
      ],
      "execution_count": 4,
      "outputs": [
        {
          "output_type": "stream",
          "text": [
            "Downloading https://www.cs.toronto.edu/~kriz/cifar-10-python.tar.gz to ../input/cifar-10-python.tar.gz\n"
          ],
          "name": "stdout"
        },
        {
          "output_type": "display_data",
          "data": {
            "application/vnd.jupyter.widget-view+json": {
              "model_id": "0c30058dda434fa59f74ff2b0dc0ad1c",
              "version_minor": 0,
              "version_major": 2
            },
            "text/plain": [
              "HBox(children=(FloatProgress(value=0.0, max=170498071.0), HTML(value='')))"
            ]
          },
          "metadata": {
            "tags": []
          }
        },
        {
          "output_type": "stream",
          "text": [
            "\n",
            "Extracting ../input/cifar-10-python.tar.gz to ../input/\n",
            "Files already downloaded and verified\n"
          ],
          "name": "stdout"
        }
      ]
    },
    {
      "cell_type": "markdown",
      "metadata": {
        "id": "KT4XkQSOjGo7"
      },
      "source": [
        "Classes of the dataset"
      ]
    },
    {
      "cell_type": "code",
      "metadata": {
        "id": "pErkA1e1iAmK"
      },
      "source": [
        "classes = ['plane', 'car', 'bird', 'cat', 'deer', 'dog', 'frog', 'horse', 'ship', 'truck']"
      ],
      "execution_count": 5,
      "outputs": []
    },
    {
      "cell_type": "markdown",
      "metadata": {
        "id": "G75jowCqjK6f"
      },
      "source": [
        "ModelNamed My_VGG_16\n",
        "\n",
        "Sequential \n"
      ]
    },
    {
      "cell_type": "code",
      "metadata": {
        "id": "ju6mjXXGiApI"
      },
      "source": [
        "class My_VGG_16(nn.Module):\n",
        "    def __init__(self, num_classes):\n",
        "        super(My_VGG_16, self).__init__()\n",
        "        self.features = nn.Sequential(\n",
        "            nn.Conv2d(3, 32, 3, padding=1), \n",
        "            nn.ReLU(True),\n",
        "            nn.Conv2d(32, 32, 3, padding=1), \n",
        "            nn.ReLU(True),\n",
        "            nn.MaxPool2d(2, 2), \n",
        "            nn.Conv2d(32, 64, 3, padding=1),  \n",
        "            nn.ReLU(True),\n",
        "            nn.Conv2d(64, 64, 3, padding=1),  \n",
        "            nn.ReLU(True),\n",
        "            nn.MaxPool2d(2, 2),  \n",
        "            nn.Conv2d(64, 128, 3, padding=1),  \n",
        "            nn.ReLU(True),\n",
        "            nn.Conv2d(128, 128, 3, padding=1),  \n",
        "            nn.ReLU(True),\n",
        "            nn.Conv2d(128, 128, 3, padding=1),  \n",
        "            nn.ReLU(True),\n",
        "            nn.MaxPool2d(2, 2), \n",
        "            nn.Conv2d(128, 256, 3, padding=1),  \n",
        "            nn.ReLU(True),\n",
        "            nn.Conv2d(256, 256, 3, padding=1),  \n",
        "            nn.ReLU(True),\n",
        "            nn.Conv2d(256, 256, 3, padding=1),  \n",
        "            nn.ReLU(True),\n",
        "            nn.MaxPool2d(2, 2),  \n",
        "            nn.Conv2d(256, 256, 3, padding=1),  \n",
        "            nn.ReLU(True),\n",
        "            nn.Conv2d(256, 256, 3, padding=1), \n",
        "            nn.ReLU(True),\n",
        "            nn.Conv2d(256, 256, 3, padding=1),  \n",
        "            nn.ReLU(True), \n",
        "        )\n",
        "        self.classifier = nn.Sequential(\n",
        "            nn.Linear(2 * 2 * 256, 512),\n",
        "            nn.ReLU(True),\n",
        "            nn.Dropout(),\n",
        "            nn.Linear(512, 512),\n",
        "            nn.ReLU(True),\n",
        "            nn.Dropout(),\n",
        "            nn.Linear(512, num_classes),\n",
        "        )\n",
        "        self._initialize_weights()\n",
        "\n",
        "    def _initialize_weights(self):\n",
        "        for m in self.modules():\n",
        "            if isinstance(m, nn.Conv2d):\n",
        "                n = m.kernel_size[0] * m.kernel_size[1] * m.out_channels\n",
        "                m.weight.data.normal_(0, math.sqrt(2. / n))\n",
        "                if m.bias is not None:\n",
        "                    m.bias.data.zero_()\n",
        "            elif isinstance(m, nn.BatchNorm2d):\n",
        "                m.weight.data.fill_(1)\n",
        "                m.bias.data.zero_()\n",
        "            elif isinstance(m, nn.Linear):\n",
        "                m.weight.data.normal_(0, 0.01)\n",
        "                m.bias.data.zero_()\n",
        "\n",
        "    def forward(self, x):\n",
        "        x = self.features(x)\n",
        "        x = x.view(x.size(0), -1)\n",
        "        x = self.classifier(x)\n",
        "\n",
        "        return x"
      ],
      "execution_count": 6,
      "outputs": []
    },
    {
      "cell_type": "code",
      "metadata": {
        "colab": {
          "base_uri": "https://localhost:8080/"
        },
        "id": "BlYQvFqAiAr_",
        "outputId": "6a79b4b8-e1d3-4c30-d838-9677915d6f00"
      },
      "source": [
        "net = My_VGG_16(100)\n",
        "net.cuda()\n",
        "lr = 1e-3\n",
        "momentum = 0.08\n",
        "num_epoch = 10\n",
        "\n",
        "critierion = nn.CrossEntropyLoss()\n",
        "optimizer = optim.SGD(net.parameters(), lr=lr, momentum=momentum)\n",
        "print('Training with learning rate = %f, momentum = %f ' % (lr, momentum))"
      ],
      "execution_count": 7,
      "outputs": [
        {
          "output_type": "stream",
          "text": [
            "Training with learning rate = 0.001000, momentum = 0.080000 \n"
          ],
          "name": "stdout"
        }
      ]
    },
    {
      "cell_type": "code",
      "metadata": {
        "colab": {
          "base_uri": "https://localhost:8080/"
        },
        "id": "WDodOM72lU-q",
        "outputId": "dcfaad1d-950b-4874-af5a-0f1f14194cfc"
      },
      "source": [
        "loss_p = np.array([])\n",
        "for t in range(num_epoch):\n",
        "    running_loss = 0\n",
        "    running_loss_sum_per_epoch = 0\n",
        "    total_images = 0\n",
        "    correct_images = 0\n",
        "    if t == 25:\n",
        "        optimizer = optim.SGD(net.parameters(), lr=lr/10, momentum=momentum)\n",
        "    for i, data in enumerate(train_loader, 0):\n",
        "        images, labels = data\n",
        "        images = Variable(images.cuda())\n",
        "        labels = Variable(labels.cuda())\n",
        "\n",
        "        optimizer.zero_grad()\n",
        "        outputs = net(images)\n",
        "        _, predicts = torch.max(outputs.data, 1)\n",
        "        loss = critierion(outputs, labels)\n",
        "\n",
        "        loss.backward()\n",
        "\n",
        "        optimizer.step()\n",
        "\n",
        "        total_images += labels.size(0)\n",
        "        correct_images += (predicts == labels).sum().item()\n",
        "        loss_data = loss.data.item()\n",
        "        running_loss += loss_data\n",
        "        \n",
        "        running_loss_sum_per_epoch = running_loss + running_loss_sum_per_epoch\n",
        "        if i % 2000 == 1999:\n",
        "            print('Epoch, batch [%d, %5d] loss: %.6f, Training accuracy: %.5f' %\n",
        "                  (t + 1, i + 1, running_loss / 2000, 100 * correct_images / total_images))\n",
        "            running_loss = 0\n",
        "            total_images = 0\n",
        "            correct_images = 0\n",
        "\n",
        "    loss_p = np.append(loss_p, running_loss_sum_per_epoch)\n",
        "\n",
        "print('Finished training.')\n"
      ],
      "execution_count": 8,
      "outputs": [
        {
          "output_type": "stream",
          "text": [
            "Epoch, batch [1,  2000] loss: 3.529600, Training accuracy: 10.06250\n",
            "Epoch, batch [1,  4000] loss: 2.384281, Training accuracy: 10.11250\n",
            "Epoch, batch [1,  6000] loss: 2.360781, Training accuracy: 10.22500\n",
            "Epoch, batch [1,  8000] loss: 2.354773, Training accuracy: 9.55000\n",
            "Epoch, batch [1, 10000] loss: 2.344983, Training accuracy: 10.08750\n",
            "Epoch, batch [1, 12000] loss: 2.337720, Training accuracy: 10.58750\n",
            "Epoch, batch [2,  2000] loss: 2.336126, Training accuracy: 10.02500\n",
            "Epoch, batch [2,  4000] loss: 2.333348, Training accuracy: 10.10000\n",
            "Epoch, batch [2,  6000] loss: 2.330898, Training accuracy: 10.61250\n",
            "Epoch, batch [2,  8000] loss: 2.331087, Training accuracy: 10.47500\n",
            "Epoch, batch [2, 10000] loss: 2.326917, Training accuracy: 10.40000\n",
            "Epoch, batch [2, 12000] loss: 2.291014, Training accuracy: 11.92500\n",
            "Epoch, batch [3,  2000] loss: 2.181705, Training accuracy: 16.26250\n",
            "Epoch, batch [3,  4000] loss: 2.150098, Training accuracy: 16.66250\n",
            "Epoch, batch [3,  6000] loss: 2.131373, Training accuracy: 16.98750\n",
            "Epoch, batch [3,  8000] loss: 2.099173, Training accuracy: 18.12500\n",
            "Epoch, batch [3, 10000] loss: 2.082048, Training accuracy: 18.77500\n",
            "Epoch, batch [3, 12000] loss: 2.054948, Training accuracy: 20.12500\n",
            "Epoch, batch [4,  2000] loss: 2.020915, Training accuracy: 21.12500\n",
            "Epoch, batch [4,  4000] loss: 2.000209, Training accuracy: 23.42500\n",
            "Epoch, batch [4,  6000] loss: 1.952038, Training accuracy: 25.28750\n",
            "Epoch, batch [4,  8000] loss: 1.921950, Training accuracy: 28.00000\n",
            "Epoch, batch [4, 10000] loss: 1.882307, Training accuracy: 29.55000\n",
            "Epoch, batch [4, 12000] loss: 1.850572, Training accuracy: 30.20000\n",
            "Epoch, batch [5,  2000] loss: 1.819119, Training accuracy: 32.11250\n",
            "Epoch, batch [5,  4000] loss: 1.786276, Training accuracy: 33.47500\n",
            "Epoch, batch [5,  6000] loss: 1.762072, Training accuracy: 34.28750\n",
            "Epoch, batch [5,  8000] loss: 1.751666, Training accuracy: 35.05000\n",
            "Epoch, batch [5, 10000] loss: 1.708165, Training accuracy: 35.65000\n",
            "Epoch, batch [5, 12000] loss: 1.688819, Training accuracy: 38.00000\n",
            "Epoch, batch [6,  2000] loss: 1.631992, Training accuracy: 39.68750\n",
            "Epoch, batch [6,  4000] loss: 1.635503, Training accuracy: 40.01250\n",
            "Epoch, batch [6,  6000] loss: 1.586792, Training accuracy: 41.61250\n",
            "Epoch, batch [6,  8000] loss: 1.575475, Training accuracy: 41.77500\n",
            "Epoch, batch [6, 10000] loss: 1.528886, Training accuracy: 44.31250\n",
            "Epoch, batch [6, 12000] loss: 1.535029, Training accuracy: 44.23750\n",
            "Epoch, batch [7,  2000] loss: 1.481348, Training accuracy: 46.33750\n",
            "Epoch, batch [7,  4000] loss: 1.446503, Training accuracy: 47.42500\n",
            "Epoch, batch [7,  6000] loss: 1.440923, Training accuracy: 47.92500\n",
            "Epoch, batch [7,  8000] loss: 1.413886, Training accuracy: 48.93750\n",
            "Epoch, batch [7, 10000] loss: 1.395080, Training accuracy: 49.50000\n",
            "Epoch, batch [7, 12000] loss: 1.409897, Training accuracy: 48.68750\n",
            "Epoch, batch [8,  2000] loss: 1.342984, Training accuracy: 50.92500\n",
            "Epoch, batch [8,  4000] loss: 1.302579, Training accuracy: 53.50000\n",
            "Epoch, batch [8,  6000] loss: 1.299326, Training accuracy: 54.36250\n",
            "Epoch, batch [8,  8000] loss: 1.290079, Training accuracy: 53.78750\n",
            "Epoch, batch [8, 10000] loss: 1.295825, Training accuracy: 53.70000\n",
            "Epoch, batch [8, 12000] loss: 1.282889, Training accuracy: 53.17500\n",
            "Epoch, batch [9,  2000] loss: 1.223197, Training accuracy: 56.32500\n",
            "Epoch, batch [9,  4000] loss: 1.189580, Training accuracy: 56.88750\n",
            "Epoch, batch [9,  6000] loss: 1.199713, Training accuracy: 57.31250\n",
            "Epoch, batch [9,  8000] loss: 1.182478, Training accuracy: 58.37500\n",
            "Epoch, batch [9, 10000] loss: 1.178276, Training accuracy: 57.78750\n",
            "Epoch, batch [9, 12000] loss: 1.154991, Training accuracy: 59.06250\n",
            "Epoch, batch [10,  2000] loss: 1.071472, Training accuracy: 61.55000\n",
            "Epoch, batch [10,  4000] loss: 1.109150, Training accuracy: 60.97500\n",
            "Epoch, batch [10,  6000] loss: 1.105751, Training accuracy: 61.08750\n",
            "Epoch, batch [10,  8000] loss: 1.073349, Training accuracy: 62.03750\n",
            "Epoch, batch [10, 10000] loss: 1.067418, Training accuracy: 61.97500\n",
            "Epoch, batch [10, 12000] loss: 1.071455, Training accuracy: 62.45000\n",
            "Finished training.\n"
          ],
          "name": "stdout"
        }
      ]
    },
    {
      "cell_type": "code",
      "metadata": {
        "id": "XXtAWWdzlVBs",
        "colab": {
          "base_uri": "https://localhost:8080/"
        },
        "outputId": "e72fc9d2-3d70-437c-f230-edacd396bb54"
      },
      "source": [
        "with torch.no_grad():\n",
        "    number_corrects = 0\n",
        "    number_samples = 0\n",
        "    for i, (test_images_set , test_labels_set) in enumerate(testloader):\n",
        "        test_images_set = test_images_set.cuda()\n",
        "        test_labels_set = test_labels_set.cuda()\n",
        "    \n",
        "        y_predicted = net(test_images_set)\n",
        "        labels_predicted = y_predicted.argmax(axis = 1)\n",
        "        number_corrects += (labels_predicted==test_labels_set).sum().item()\n",
        "        number_samples += test_labels_set.size(0)\n",
        "    print(f'Overall accuracy {(number_corrects / number_samples)*100}%')"
      ],
      "execution_count": 9,
      "outputs": [
        {
          "output_type": "stream",
          "text": [
            "Overall accuracy 61.150000000000006%\n"
          ],
          "name": "stdout"
        }
      ]
    },
    {
      "cell_type": "code",
      "metadata": {
        "id": "6-KqRit7lVHu"
      },
      "source": [
        ""
      ],
      "execution_count": null,
      "outputs": []
    }
  ]
}